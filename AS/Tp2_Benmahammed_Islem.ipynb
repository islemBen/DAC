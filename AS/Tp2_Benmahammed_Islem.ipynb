{
 "cells": [
  {
   "cell_type": "markdown",
   "metadata": {
    "slideshow": {
     "slide_type": "notes"
    }
   },
   "source": [
    "<font size =5 color='#2B3956'>Benmahammed Islem 3261314 - TP FDMS <br/><br/>\n",
    "Descente de Gradient et la Régularisation L1\n",
    "</font>\n",
    "<br/>\n",
    "<br/>\n",
    "<br/>"
   ]
  },
  {
   "cell_type": "markdown",
   "metadata": {},
   "source": [
    "###Quelques nouvelles fonctions utiles"
   ]
  },
  {
   "cell_type": "code",
   "execution_count": 14,
   "metadata": {
    "collapsed": true
   },
   "outputs": [],
   "source": [
    "import math\n",
    "def dot(v,w) : # produit scalaire pour listes  \n",
    "    return sum(v_i * w_i for v_i , w_i in zip(v,w))\n",
    "\n",
    "def vector_subtract(v,w): # différence entre listes\n",
    "    return [v_i - w_i\n",
    "            for v_i,w_i in zip(v,w)]\n",
    "\n",
    "def vector_add(v,w): # différence entre listes\n",
    "    return [v_i + w_i\n",
    "            for v_i,w_i in zip(v,w)]\n",
    "\n",
    "def scalar_multiply(s,v): # scalaire * vecteur\n",
    "    return [v_i*s\n",
    "            for v_i in v]\n",
    "\n",
    "def sum_of_squares(v) : # somme des carrés \n",
    "    return sum(v_i ** 2 for v_i in v)\n",
    "\n",
    "def sumVec(v) : # somme d'une liste\n",
    "    return sum(v_i for v_i in v)\n",
    "\n",
    "def in_random_order(data) : # trier les données d'une façon aléatoire\n",
    "    indexes = [i for i,_ in enumerate(data)]\n",
    "    random.shuffle(indexes)\n",
    "    for i in indexes : \n",
    "        yield data[i]"
   ]
  },
  {
   "cell_type": "markdown",
   "metadata": {},
   "source": [
    "# 1) Classe principale :\n",
    "   \n",
    "   Cette classe \"ModeleGD\" hérite de BaseEstimator et ClassifierMixin .  \n",
    "   La fonction de régularisation est définie dans fit() qui effectue l'apprentissage ,elle prend en paramètre les   données (x), leurs étiquettes (y), le pas de la descente (epsilon), le nombre d'itération (maxI) ainsi qu'un terme lamdba . elle permet d'avoir à la fin un vecteur de poids theta optimisé par un algorithme de descente de gradient et selon la régularisation définie précedemment . \n",
    "   \n",
    "   La fonction predict permet de prédir une étiquette pour chaque élément d'un jeu de données selon l'apprentissage effectué. Elle prend en paramètre les données à tester ainsi que le vecteur de poids issu de la fonction. "
   ]
  },
  {
   "cell_type": "code",
   "execution_count": 50,
   "metadata": {
    "collapsed": false
   },
   "outputs": [],
   "source": [
    "import numpy as np\n",
    "import random\n",
    "from sklearn.base import BaseEstimator,ClassifierMixin\n",
    "\n",
    "class ModeleGD(BaseEstimator,ClassifierMixin):\n",
    "\n",
    "            \n",
    "    def __init__(self):\n",
    "        random.seed(0)\n",
    "        self.epsilon = 00.1\n",
    "        self.lambdaa = 0\n",
    "        self.maxI = 20\n",
    "        self.theta = [random.random(),random.random(),random.random(),random.random()]\n",
    "   \n",
    "    def fit(self,target_fn,gradient_fn,x,y) : \n",
    "        data = zip(x,y)\n",
    "        theta=self.theta\n",
    "        epsilon =self.epsilon\n",
    "        lambdaa = self.lambdaa\n",
    "        min_theta , min_value = None,float(\"inf\")\n",
    "        iterations_with_no_improvement = 0 \n",
    "        while iterations_with_no_improvement < self.maxI :\n",
    "            \n",
    "            value = sum(target_fn(x_i,y_i,self.lambdaa,theta) for x_i,y_i in data)\n",
    "            if value < min_value:\n",
    "                min_theta , min_value = theta,value\n",
    "                iterations_with_no_improvement = 0 \n",
    "                epsilon = self.epsilon\n",
    "            else :\n",
    "                iterations_with_no_improvement += 1\n",
    "                epsilon *= 0.9\n",
    "            \n",
    "            for x_i , y_i in in_random_order(data) :\n",
    "                gradient_i = gradient_fn(x_i,y_i,self.lambdaa,theta)\n",
    "                new_theta = theta - epsilon*gradient_i\n",
    "                for k in range(len(theta)):\n",
    "                    if(new_theta[k]*theta[k])<0:\n",
    "                        theta[k]=0\n",
    "                    else:\n",
    "                        theta[k]=new_theta[k]\n",
    "        self.theta = min_theta\n",
    "        \n",
    "    def L1_function(self,xi,yi,lambdaa,theta):\n",
    "        return (yi-dot(xi,theta)**2 + lambdaa * abs(sumVec(theta)))\n",
    "    \n",
    "    def L1_gradient(self,xi,yi,lambdaa,theta):\n",
    "        return (scalar_multiply(2*dot(xi,theta)-yi,xi) + lambdaa*np.sign(theta))/xi.shape[0]\n",
    "    \n",
    "    def L2_function(self,xi,yi,lambdaa,theta):\n",
    "        return (yi-dot(theta,xi))**2 + lambdaa * abs(sumVec(theta))\n",
    "    \n",
    "    def L2_gradient(self,xi,yi,lambdaa,theta):\n",
    "        return (scalar_multiply(2*(dot(theta,xi)-yi),xi) + lambdaa*np.sign(theta))/xi.shape[0]\n",
    "    \n",
    "    def L1L2_function(self,xi,yi,lambdaa,theta):\n",
    "        return (yi-dot(theta,xi))**2 + lambdaa*abs(sumVec(theta))\n",
    "    \n",
    "    def L1L2_gradient(self,xi,yi,lambdaa,theta):\n",
    "        return (2 * (dot(theta,xi)-yi) * xi + lambdaa*np.sign(theta))/xi.shape[0]\n",
    "        \n",
    "    def setParams(self,eps,lambd,maxIt):\n",
    "        self.epsilon = eps\n",
    "        self.lambdaa = lambd\n",
    "        self.maxI = maxIt\n",
    "\n",
    "    def predict (self,X):\n",
    "        return np.sign(X.dot(self.theta))\n",
    "\n",
    "    def score(self,pred,y):\n",
    "        a=0\n",
    "        for i in range(pred.shape[0]):\n",
    "            if(pred[i]==y[i]):\n",
    "                a+=1\n",
    "        return 1.0*a/pred.shape[0]"
   ]
  },
  {
   "cell_type": "markdown",
   "metadata": {},
   "source": [
    "# Tests : \n",
    "\n",
    "On génére un ensemble de données étiquetées avec sklearn. On divise ensuite cet ensemble en deux pour avoir un jeu d'apprentissage et un de test."
   ]
  },
  {
   "cell_type": "code",
   "execution_count": 23,
   "metadata": {
    "collapsed": false
   },
   "outputs": [],
   "source": [
    "import numpy as np\n",
    "from sklearn import cross_validation\n",
    "from sklearn.datasets import make_classification\n",
    "from sklearn import cross_validation\n",
    "x,y=make_classification(n_samples=1000, n_features=4)\n",
    "y=np.where(y>0,1,-1)\n",
    "x_train, x_test, y_train, y_test = cross_validation.train_test_split( x, y, test_size=0.5, random_state=0)\n"
   ]
  },
  {
   "cell_type": "markdown",
   "metadata": {},
   "source": [
    "### Modele L1 == > Evaluation du score par rapport au nombre d'iterations pour lambda = 0 et epsilon = 0.1 ou epsilon = 0.001 "
   ]
  },
  {
   "cell_type": "code",
   "execution_count": 24,
   "metadata": {
    "collapsed": false
   },
   "outputs": [],
   "source": [
    "model=ModeleGD() \n",
    "# lambdaa = 0 & epsilon = 0.1 \n",
    "score1=[]\n",
    "for i in range(1,100,5):\n",
    "    model.setParams(0.1,0,i)\n",
    "    loss1=model.fit(model.L1_function,model.L1_gradient,x_train,y_train)\n",
    "    pred1=model.predict(x_test)\n",
    "    score1.append(model.score(pred1,y_test))\n",
    "\n",
    "# lambdaa = 0 & epsilon = 0.01\n",
    "score2=[]    \n",
    "for i in range(1,100,5):\n",
    "    model.setParams(0.001,0,i)\n",
    "    loss2=model.fit(model.L1_function,model.L1_gradient,x_train,y_train)\n",
    "    pred2=model.predict(x_test)\n",
    "    score2.append(model.score(pred2,y_test))\n"
   ]
  },
  {
   "cell_type": "markdown",
   "metadata": {},
   "source": [
    "##Visualisation des résultats : "
   ]
  },
  {
   "cell_type": "code",
   "execution_count": 26,
   "metadata": {
    "collapsed": false
   },
   "outputs": [
    {
     "name": "stdout",
     "output_type": "stream",
     "text": [
      "[0.85, 0.848, 0.844, 0.85, 0.848, 0.852, 0.852, 0.85, 0.854, 0.852, 0.85, 0.85, 0.852, 0.85, 0.85, 0.852, 0.85, 0.85, 0.85, 0.85]\n",
      "[0.854, 0.85, 0.852, 0.85, 0.85, 0.85, 0.85, 0.85, 0.85, 0.852, 0.85, 0.85, 0.85, 0.852, 0.85, 0.85, 0.852, 0.85, 0.85, 0.85]\n"
     ]
    },
    {
     "data": {
      "image/png": "[encoded data removed]",
      "text/plain": [
       "<matplotlib.figure.Figure at 0x7fa8b9045190>"
      ]
     },
     "metadata": {},
     "output_type": "display_data"
    },
    {
     "data": {
      "image/png": "[encoded data removed]",
      "text/plain": [
       "<matplotlib.figure.Figure at 0x7fa8b8d6fed0>"
      ]
     },
     "metadata": {},
     "output_type": "display_data"
    }
   ],
   "source": [
    "%matplotlib inline\n",
    "print score1\n",
    "print score2\n",
    "import numpy as np\n",
    "import matplotlib.pyplot as plt\n",
    "\n",
    "fig = plt.figure(figsize=(12,12))\n",
    "plt.subplot(2, 1, 1)\n",
    "plt.plot([0]+range(1,100,5), [0]+score1, 'r.-')\n",
    "plt.xlabel('Nombre iterations')\n",
    "plt.ylabel('accuracy')\n",
    "plt.title('Eps=0.1')\n",
    "plt.show()\n",
    "\n",
    "fig = plt.figure(figsize=(12,12))\n",
    "plt.subplot(2, 1, 2)\n",
    "plt.plot([0]+range(1,100,5), [0]+score2, 'r.-')\n",
    "plt.xlabel('Nombre d iterations')\n",
    "plt.ylabel('accuracy')\n",
    "plt.title('Eps=0.001')\n",
    "plt.show()"
   ]
  },
  {
   "cell_type": "code",
   "execution_count": null,
   "metadata": {
    "collapsed": true
   },
   "outputs": [],
   "source": [
    "### Evaluation du score par rapport à lambda avec un nombre d'itération fixe=100 "
   ]
  },
  {
   "cell_type": "code",
   "execution_count": 43,
   "metadata": {
    "collapsed": false
   },
   "outputs": [
    {
     "name": "stdout",
     "output_type": "stream",
     "text": [
      "[0.852, 0.812, 0.16, 0.83, 0.83, 0.566, 0.81, 0.81, 0.81, 0.81, 0.81, 0.81, 0.81, 0.19, 0.81, 0.81, 0.81, 0.19, 0.81, 0.81, 0.19, 0.81, 0.81, 0.19, 0.19]\n"
     ]
    }
   ],
   "source": [
    "scoreL=[]\n",
    "for i in range(0,25):\n",
    "    model.setParams(0.01,i,20)\n",
    "    loss=model.fit(model.L1_function,model.L1_gradient,x_train,y_train)\n",
    "    pred=model.predict(x_test)\n",
    "    scoreL.append(model.score(pred,y_test))\n",
    "print scoreL\n",
    "\n"
   ]
  },
  {
   "cell_type": "code",
   "execution_count": 44,
   "metadata": {
    "collapsed": false
   },
   "outputs": [
    {
     "name": "stdout",
     "output_type": "stream",
     "text": [
      "25\n"
     ]
    },
    {
     "data": {
      "image/png": "[encoded data removed]",
      "text/plain": [
       "<matplotlib.figure.Figure at 0x7fa8b8a92790>"
      ]
     },
     "metadata": {},
     "output_type": "display_data"
    }
   ],
   "source": [
    "print len(scoreL)\n",
    "fig = plt.figure(figsize=(12,12))\n",
    "plt.subplot(2, 1, 2)\n",
    "plt.plot(range(0,25),scoreL, 'r.-')\n",
    "plt.xlabel('Lambdaa')\n",
    "plt.ylabel('accuracy')\n",
    "plt.title('Eps=0.001')\n",
    "plt.show()"
   ]
  },
  {
   "cell_type": "markdown",
   "metadata": {},
   "source": [
    "Meilleur valeur de lambdaa = 0 "
   ]
  },
  {
   "cell_type": "markdown",
   "metadata": {},
   "source": [
    "### Modele L2 == > Evaluation du score par rapport au nombre d'iterations pour lambda = 0 et epsilon = 0.1 ou epsilon = 0.001 "
   ]
  },
  {
   "cell_type": "code",
   "execution_count": 51,
   "metadata": {
    "collapsed": false
   },
   "outputs": [],
   "source": [
    "model=ModeleGD() \n",
    "# lambdaa = 0 & epsilon = 0.1 \n",
    "score1=[]\n",
    "for i in range(1,100,5):\n",
    "    model.setParams(0.1,0,i)\n",
    "    loss1=model.fit(model.L2_function,model.L2_gradient,x_train,y_train)\n",
    "    pred1=model.predict(x_test)\n",
    "    score1.append(model.score(pred1,y_test))\n",
    "\n",
    "# lambdaa = 0 & epsilon = 0.01\n",
    "score2=[]    \n",
    "for i in range(1,100,5):\n",
    "    model.setParams(0.001,0,i)\n",
    "    loss2=model.fit(model.L2_function,model.L2_gradient,x_train,y_train)\n",
    "    pred2=model.predict(x_test)\n",
    "    score2.append(model.score(pred2,y_test))"
   ]
  },
  {
   "cell_type": "code",
   "execution_count": 52,
   "metadata": {
    "collapsed": false
   },
   "outputs": [
    {
     "name": "stdout",
     "output_type": "stream",
     "text": [
      "[0.854, 0.852, 0.862, 0.85, 0.856, 0.854, 0.854, 0.852, 0.852, 0.852, 0.852, 0.85, 0.85, 0.852, 0.85, 0.85, 0.85, 0.85, 0.852, 0.85]\n",
      "[0.858, 0.852, 0.85, 0.85, 0.85, 0.85, 0.85, 0.852, 0.852, 0.852, 0.85, 0.85, 0.852, 0.85, 0.852, 0.85, 0.852, 0.85, 0.85, 0.852]\n"
     ]
    },
    {
     "data": {
      "image/png": "[encoded data removed]",
      "text/plain": [
       "<matplotlib.figure.Figure at 0x7fa8b9045210>"
      ]
     },
     "metadata": {},
     "output_type": "display_data"
    },
    {
     "data": {
      "image/png": "[encoded data removed]",
      "text/plain": [
       "<matplotlib.figure.Figure at 0x7fa8b8d8df10>"
      ]
     },
     "metadata": {},
     "output_type": "display_data"
    }
   ],
   "source": [
    "%matplotlib inline\n",
    "print score1\n",
    "print score2\n",
    "import numpy as np\n",
    "import matplotlib.pyplot as plt\n",
    "\n",
    "fig = plt.figure(figsize=(12,12))\n",
    "plt.subplot(2, 1, 1)\n",
    "plt.plot([0]+range(1,100,5), [0]+score1, 'r.-')\n",
    "plt.xlabel('Nombre iterations')\n",
    "plt.ylabel('accuracy')\n",
    "plt.title('Eps=0.1')\n",
    "plt.show()\n",
    "\n",
    "fig = plt.figure(figsize=(12,12))\n",
    "plt.subplot(2, 1, 2)\n",
    "plt.plot([0]+range(1,100,5), [0]+score2, 'r.-')\n",
    "plt.xlabel('Nombre d iterations')\n",
    "plt.ylabel('accuracy')\n",
    "plt.title('Eps=0.001')\n",
    "plt.show()"
   ]
  },
  {
   "cell_type": "code",
   "execution_count": null,
   "metadata": {
    "collapsed": true
   },
   "outputs": [],
   "source": []
  }
 ],
 "metadata": {
  "celltoolbar": "Raw Cell Format",
  "kernelspec": {
   "display_name": "Python 3",
   "language": "python",
   "name": "python3"
  },
  "language_info": {
   "codemirror_mode": {
    "name": "ipython",
    "version": 3
   },
   "file_extension": ".py",
   "mimetype": "text/x-python",
   "name": "python",
   "nbconvert_exporter": "python",
   "pygments_lexer": "ipython3",
   "version": "3.4.3"
  }
 },
 "nbformat": 4,
 "nbformat_minor": 0
}
